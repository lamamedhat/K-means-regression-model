{
 "cells": [
  {
   "cell_type": "markdown",
   "id": "ed772b68",
   "metadata": {},
   "source": [
    "# Import Libraries"
   ]
  },
  {
   "cell_type": "code",
   "execution_count": 1,
   "id": "bf39c47f",
   "metadata": {},
   "outputs": [],
   "source": [
    "import numpy as np\n",
    "import pandas as pd\n",
    "import seaborn as sns\n",
    "import matplotlib.pyplot as plt\n",
    "\n",
    "from sklearn.cluster import KMeans\n",
    "from sklearn.preprocessing import StandardScaler\n",
    "from sklearn.preprocessing import StandardScaler\n",
    "from kneed import KneeLocator\n",
    "from sklearn.metrics import silhouette_score"
   ]
  },
  {
   "cell_type": "markdown",
   "id": "a7aa929d",
   "metadata": {},
   "source": [
    "# Read Dataset"
   ]
  },
  {
   "cell_type": "code",
   "execution_count": 8,
   "id": "cc173419",
   "metadata": {
    "scrolled": false
   },
   "outputs": [
    {
     "data": {
      "text/html": [
       "<div>\n",
       "<style scoped>\n",
       "    .dataframe tbody tr th:only-of-type {\n",
       "        vertical-align: middle;\n",
       "    }\n",
       "\n",
       "    .dataframe tbody tr th {\n",
       "        vertical-align: top;\n",
       "    }\n",
       "\n",
       "    .dataframe thead th {\n",
       "        text-align: right;\n",
       "    }\n",
       "</style>\n",
       "<table border=\"1\" class=\"dataframe\">\n",
       "  <thead>\n",
       "    <tr style=\"text-align: right;\">\n",
       "      <th></th>\n",
       "      <th>Unnamed: 0</th>\n",
       "      <th>Enroll</th>\n",
       "      <th>Top10perc</th>\n",
       "      <th>Top25perc</th>\n",
       "      <th>Books</th>\n",
       "      <th>PhD</th>\n",
       "      <th>Grad.Rate</th>\n",
       "    </tr>\n",
       "  </thead>\n",
       "  <tbody>\n",
       "    <tr>\n",
       "      <th>0</th>\n",
       "      <td>Abilene Christian University</td>\n",
       "      <td>721</td>\n",
       "      <td>23</td>\n",
       "      <td>52</td>\n",
       "      <td>450</td>\n",
       "      <td>70</td>\n",
       "      <td>60</td>\n",
       "    </tr>\n",
       "    <tr>\n",
       "      <th>1</th>\n",
       "      <td>Adelphi University</td>\n",
       "      <td>512</td>\n",
       "      <td>16</td>\n",
       "      <td>29</td>\n",
       "      <td>750</td>\n",
       "      <td>29</td>\n",
       "      <td>56</td>\n",
       "    </tr>\n",
       "    <tr>\n",
       "      <th>2</th>\n",
       "      <td>Adrian College</td>\n",
       "      <td>336</td>\n",
       "      <td>22</td>\n",
       "      <td>50</td>\n",
       "      <td>400</td>\n",
       "      <td>53</td>\n",
       "      <td>54</td>\n",
       "    </tr>\n",
       "    <tr>\n",
       "      <th>3</th>\n",
       "      <td>Agnes Scott College</td>\n",
       "      <td>137</td>\n",
       "      <td>60</td>\n",
       "      <td>89</td>\n",
       "      <td>450</td>\n",
       "      <td>92</td>\n",
       "      <td>59</td>\n",
       "    </tr>\n",
       "    <tr>\n",
       "      <th>4</th>\n",
       "      <td>Alaska Pacific University</td>\n",
       "      <td>55</td>\n",
       "      <td>16</td>\n",
       "      <td>44</td>\n",
       "      <td>800</td>\n",
       "      <td>76</td>\n",
       "      <td>15</td>\n",
       "    </tr>\n",
       "    <tr>\n",
       "      <th>...</th>\n",
       "      <td>...</td>\n",
       "      <td>...</td>\n",
       "      <td>...</td>\n",
       "      <td>...</td>\n",
       "      <td>...</td>\n",
       "      <td>...</td>\n",
       "      <td>...</td>\n",
       "    </tr>\n",
       "    <tr>\n",
       "      <th>95</th>\n",
       "      <td>Cazenovia College</td>\n",
       "      <td>527</td>\n",
       "      <td>9</td>\n",
       "      <td>35</td>\n",
       "      <td>600</td>\n",
       "      <td>22</td>\n",
       "      <td>118</td>\n",
       "    </tr>\n",
       "    <tr>\n",
       "      <th>96</th>\n",
       "      <td>Cedar Crest College</td>\n",
       "      <td>198</td>\n",
       "      <td>25</td>\n",
       "      <td>58</td>\n",
       "      <td>500</td>\n",
       "      <td>58</td>\n",
       "      <td>74</td>\n",
       "    </tr>\n",
       "    <tr>\n",
       "      <th>97</th>\n",
       "      <td>Cedarville College</td>\n",
       "      <td>616</td>\n",
       "      <td>25</td>\n",
       "      <td>55</td>\n",
       "      <td>570</td>\n",
       "      <td>50</td>\n",
       "      <td>64</td>\n",
       "    </tr>\n",
       "    <tr>\n",
       "      <th>98</th>\n",
       "      <td>Centenary College</td>\n",
       "      <td>90</td>\n",
       "      <td>12</td>\n",
       "      <td>46</td>\n",
       "      <td>500</td>\n",
       "      <td>41</td>\n",
       "      <td>24</td>\n",
       "    </tr>\n",
       "    <tr>\n",
       "      <th>99</th>\n",
       "      <td>Centenary College of Louisiana</td>\n",
       "      <td>210</td>\n",
       "      <td>35</td>\n",
       "      <td>55</td>\n",
       "      <td>600</td>\n",
       "      <td>86</td>\n",
       "      <td>66</td>\n",
       "    </tr>\n",
       "  </tbody>\n",
       "</table>\n",
       "<p>100 rows × 7 columns</p>\n",
       "</div>"
      ],
      "text/plain": [
       "                        Unnamed: 0  Enroll  Top10perc  Top25perc  Books  PhD  \\\n",
       "0     Abilene Christian University     721         23         52    450   70   \n",
       "1               Adelphi University     512         16         29    750   29   \n",
       "2                   Adrian College     336         22         50    400   53   \n",
       "3              Agnes Scott College     137         60         89    450   92   \n",
       "4        Alaska Pacific University      55         16         44    800   76   \n",
       "..                             ...     ...        ...        ...    ...  ...   \n",
       "95               Cazenovia College     527          9         35    600   22   \n",
       "96             Cedar Crest College     198         25         58    500   58   \n",
       "97              Cedarville College     616         25         55    570   50   \n",
       "98               Centenary College      90         12         46    500   41   \n",
       "99  Centenary College of Louisiana     210         35         55    600   86   \n",
       "\n",
       "    Grad.Rate  \n",
       "0          60  \n",
       "1          56  \n",
       "2          54  \n",
       "3          59  \n",
       "4          15  \n",
       "..        ...  \n",
       "95        118  \n",
       "96         74  \n",
       "97         64  \n",
       "98         24  \n",
       "99         66  \n",
       "\n",
       "[100 rows x 7 columns]"
      ]
     },
     "execution_count": 8,
     "metadata": {},
     "output_type": "execute_result"
    }
   ],
   "source": [
    "df=pd.read_csv('C:\\\\Users\\\\SOFT\\\\Desktop\\\\Machine learning tasks\\\\Collegeupdated.csv')\n",
    "df"
   ]
  },
  {
   "cell_type": "code",
   "execution_count": 9,
   "id": "833f00f7",
   "metadata": {},
   "outputs": [],
   "source": [
    "df = df.drop('Unnamed: 0',axis=1)"
   ]
  },
  {
   "cell_type": "code",
   "execution_count": 10,
   "id": "7435b3c0",
   "metadata": {
    "scrolled": true
   },
   "outputs": [
    {
     "data": {
      "text/html": [
       "<div>\n",
       "<style scoped>\n",
       "    .dataframe tbody tr th:only-of-type {\n",
       "        vertical-align: middle;\n",
       "    }\n",
       "\n",
       "    .dataframe tbody tr th {\n",
       "        vertical-align: top;\n",
       "    }\n",
       "\n",
       "    .dataframe thead th {\n",
       "        text-align: right;\n",
       "    }\n",
       "</style>\n",
       "<table border=\"1\" class=\"dataframe\">\n",
       "  <thead>\n",
       "    <tr style=\"text-align: right;\">\n",
       "      <th></th>\n",
       "      <th>Enroll</th>\n",
       "      <th>Top10perc</th>\n",
       "      <th>Top25perc</th>\n",
       "      <th>Books</th>\n",
       "      <th>PhD</th>\n",
       "      <th>Grad.Rate</th>\n",
       "    </tr>\n",
       "  </thead>\n",
       "  <tbody>\n",
       "    <tr>\n",
       "      <th>0</th>\n",
       "      <td>721</td>\n",
       "      <td>23</td>\n",
       "      <td>52</td>\n",
       "      <td>450</td>\n",
       "      <td>70</td>\n",
       "      <td>60</td>\n",
       "    </tr>\n",
       "    <tr>\n",
       "      <th>1</th>\n",
       "      <td>512</td>\n",
       "      <td>16</td>\n",
       "      <td>29</td>\n",
       "      <td>750</td>\n",
       "      <td>29</td>\n",
       "      <td>56</td>\n",
       "    </tr>\n",
       "    <tr>\n",
       "      <th>2</th>\n",
       "      <td>336</td>\n",
       "      <td>22</td>\n",
       "      <td>50</td>\n",
       "      <td>400</td>\n",
       "      <td>53</td>\n",
       "      <td>54</td>\n",
       "    </tr>\n",
       "    <tr>\n",
       "      <th>3</th>\n",
       "      <td>137</td>\n",
       "      <td>60</td>\n",
       "      <td>89</td>\n",
       "      <td>450</td>\n",
       "      <td>92</td>\n",
       "      <td>59</td>\n",
       "    </tr>\n",
       "    <tr>\n",
       "      <th>4</th>\n",
       "      <td>55</td>\n",
       "      <td>16</td>\n",
       "      <td>44</td>\n",
       "      <td>800</td>\n",
       "      <td>76</td>\n",
       "      <td>15</td>\n",
       "    </tr>\n",
       "    <tr>\n",
       "      <th>...</th>\n",
       "      <td>...</td>\n",
       "      <td>...</td>\n",
       "      <td>...</td>\n",
       "      <td>...</td>\n",
       "      <td>...</td>\n",
       "      <td>...</td>\n",
       "    </tr>\n",
       "    <tr>\n",
       "      <th>95</th>\n",
       "      <td>527</td>\n",
       "      <td>9</td>\n",
       "      <td>35</td>\n",
       "      <td>600</td>\n",
       "      <td>22</td>\n",
       "      <td>118</td>\n",
       "    </tr>\n",
       "    <tr>\n",
       "      <th>96</th>\n",
       "      <td>198</td>\n",
       "      <td>25</td>\n",
       "      <td>58</td>\n",
       "      <td>500</td>\n",
       "      <td>58</td>\n",
       "      <td>74</td>\n",
       "    </tr>\n",
       "    <tr>\n",
       "      <th>97</th>\n",
       "      <td>616</td>\n",
       "      <td>25</td>\n",
       "      <td>55</td>\n",
       "      <td>570</td>\n",
       "      <td>50</td>\n",
       "      <td>64</td>\n",
       "    </tr>\n",
       "    <tr>\n",
       "      <th>98</th>\n",
       "      <td>90</td>\n",
       "      <td>12</td>\n",
       "      <td>46</td>\n",
       "      <td>500</td>\n",
       "      <td>41</td>\n",
       "      <td>24</td>\n",
       "    </tr>\n",
       "    <tr>\n",
       "      <th>99</th>\n",
       "      <td>210</td>\n",
       "      <td>35</td>\n",
       "      <td>55</td>\n",
       "      <td>600</td>\n",
       "      <td>86</td>\n",
       "      <td>66</td>\n",
       "    </tr>\n",
       "  </tbody>\n",
       "</table>\n",
       "<p>100 rows × 6 columns</p>\n",
       "</div>"
      ],
      "text/plain": [
       "    Enroll  Top10perc  Top25perc  Books  PhD  Grad.Rate\n",
       "0      721         23         52    450   70         60\n",
       "1      512         16         29    750   29         56\n",
       "2      336         22         50    400   53         54\n",
       "3      137         60         89    450   92         59\n",
       "4       55         16         44    800   76         15\n",
       "..     ...        ...        ...    ...  ...        ...\n",
       "95     527          9         35    600   22        118\n",
       "96     198         25         58    500   58         74\n",
       "97     616         25         55    570   50         64\n",
       "98      90         12         46    500   41         24\n",
       "99     210         35         55    600   86         66\n",
       "\n",
       "[100 rows x 6 columns]"
      ]
     },
     "execution_count": 10,
     "metadata": {},
     "output_type": "execute_result"
    }
   ],
   "source": [
    "df"
   ]
  },
  {
   "cell_type": "markdown",
   "id": "42aadd38",
   "metadata": {},
   "source": [
    "# preprocessing "
   ]
  },
  {
   "cell_type": "code",
   "execution_count": 11,
   "id": "1beb6f51",
   "metadata": {
    "scrolled": true
   },
   "outputs": [
    {
     "data": {
      "text/plain": [
       "array([[ 0.11288452, -0.31441545, -0.22106424, -0.46550889, -0.04563733,\n",
       "        -0.30600125],\n",
       "       [-0.14434253, -0.70603611, -1.42306839,  0.88235972, -2.44452247,\n",
       "        -0.54003662],\n",
       "       [-0.36095478, -0.37036126, -0.32558634, -0.69015366, -1.04029702,\n",
       "        -0.65705431],\n",
       "       [-0.60587431,  1.75557949,  1.71259461, -0.46550889,  1.24156934,\n",
       "        -0.36451009],\n",
       "       [-0.70679592, -0.70603611, -0.63915264,  1.10700449,  0.30541904,\n",
       "        -2.93889918],\n",
       "       [-0.58002853,  0.52477169,  0.30154626, -0.24086412, -0.22116551,\n",
       "        -0.59854546],\n",
       "       [-0.64771986, -0.6500903 , -0.58689159, -0.24086412,  1.12455055,\n",
       "        -0.13047472],\n",
       "       [-0.17264981,  0.46882588,  0.61511256, -0.46550889,  1.06604115,\n",
       "         0.45461371],\n",
       "       [-0.49510668,  0.07720522,  0.35380731, -1.13944319,  0.48094722,\n",
       "         0.86417561],\n",
       "       [-0.56279801, -0.42630707, -0.63915264,  0.47799914, -1.80091914,\n",
       "        -0.77407199],\n",
       "       [-0.19357258,  0.46882588,  0.98093991, -0.24086412,  0.6564754 ,\n",
       "         0.45461371],\n",
       "       [-0.17880357,  0.86044654,  1.08546201, -0.69015366,  0.12989085,\n",
       "         0.63014024],\n",
       "       [-0.41756934,  0.52477169,  0.40606836,  0.20842542, -0.63073126,\n",
       "         0.51312255],\n",
       "       [-0.30064796,  0.86044654,  0.87641781, -0.69015366,  0.48094722,\n",
       "         0.16206949],\n",
       "       [-0.58125928, -0.31441545, -0.53463054,  0.43307018, -2.03495672,\n",
       "        -0.59854546],\n",
       "       [-0.50372194, -1.09765677, -1.78889574, -0.46550889,  0.42243782,\n",
       "         0.22057834],\n",
       "       [-0.26003316,  3.0423331 ,  2.07842196,  0.47799914,  1.30007873,\n",
       "         2.03435247],\n",
       "       [-0.2538794 , -0.53819868, -0.84819684, -0.01621935, -1.33284399,\n",
       "        -0.36451009],\n",
       "       [-0.3781853 , -0.81792773, -1.73663469,  1.55629402, -0.51371248,\n",
       "        -1.12512505],\n",
       "       [ 0.47595619, -0.25846964, -0.11654214, -0.24086412, -0.63073126,\n",
       "        -1.82723117],\n",
       "       [-0.46433789, -0.20252383, -0.63915264, -0.69015366, -0.10414672,\n",
       "        -1.00810736],\n",
       "       [ 1.57624795, -0.48225287,  0.35380731, -2.05599384,  0.71498479,\n",
       "         0.27908718],\n",
       "       [-0.50495269, -0.48225287, -0.27332529, -0.91479842, -0.92327823,\n",
       "        -0.01345703],\n",
       "       [ 3.85436882, -0.25846964, -0.37784739,  0.65771495,  1.00753176,\n",
       "        -1.00810736],\n",
       "       [-0.57018252,  0.97233816,  0.92867886, -0.24086412,  0.48094722,\n",
       "        -0.65705431],\n",
       "       [ 0.39595735, -0.92981935, -0.22106424, -0.46550889, -0.80625945,\n",
       "        -1.00810736],\n",
       "       [-0.17018831, -0.31441545,  0.14476311, -0.24086412,  1.30007873,\n",
       "         1.33224635],\n",
       "       [ 3.0039196 , -0.20252383,  0.04024101,  0.20842542,  0.83200358,\n",
       "         0.22057834],\n",
       "       [-0.45818414, -0.92981935, -1.37080734, -0.06114831, -0.3381843 ,\n",
       "        -0.42301893],\n",
       "       [-0.1628038 ,  0.41288007,  0.66737361, -0.06114831,  0.42243782,\n",
       "         0.33759602],\n",
       "       [-0.39787732, -0.42630707,  0.09250206,  0.20842542, -0.2796749 ,\n",
       "         0.22057834],\n",
       "       [-0.41141558,  0.74855493,  0.92867886, -0.69015366,  0.597966  ,\n",
       "         0.33759602],\n",
       "       [-0.56279801, -0.70603611, -0.84819684,  0.88235972, -0.68924066,\n",
       "        -1.00810736],\n",
       "       [-0.52095246, -0.42630707, -0.48236949, -0.69015366, -0.74775005,\n",
       "        -0.01345703],\n",
       "       [ 0.04027019,  0.07720522,  0.24928521,  2.00558356, -0.16265611,\n",
       "         1.15671983],\n",
       "       [-0.63787384, -0.76198192, -1.05724104, -0.24086412, -0.80625945,\n",
       "         0.33759602],\n",
       "       [-0.4237231 ,  1.1961214 ,  1.50355041,  0.88235972,  1.5926257 ,\n",
       "         0.80566677],\n",
       "       [-0.12095825,  1.36395883,  2.02616091,  0.20842542,  0.71498479,\n",
       "         1.50777288],\n",
       "       [-0.43110761, -0.59414449, -0.58689159,  0.20842542,  0.30541904,\n",
       "         0.39610487],\n",
       "       [ 2.13870135,  0.30098845,  0.51059046,  0.20842542,  0.01287207,\n",
       "         0.39610487],\n",
       "       [-0.34618576, -0.31441545, -0.01202004, -0.69015366,  0.42243782,\n",
       "         0.45461371],\n",
       "       [-0.39541581,  0.5807175 ,  0.35380731,  0.88235972,  0.18840025,\n",
       "         1.09821098],\n",
       "       [-0.61572032, -0.6500903 , -1.05724104, -1.13944319,  0.42243782,\n",
       "        -0.77407199],\n",
       "       [-0.18249582, -0.0346864 ,  0.56285151,  0.43307018, -0.57222187,\n",
       "        -0.94959852],\n",
       "       [-0.42495385, -0.14657802, -0.11654214, -0.89233395,  0.94902237,\n",
       "         0.22057834],\n",
       "       [-0.10249698, -0.92981935, -1.05724104,  0.47799914, -0.80625945,\n",
       "        -1.12512505],\n",
       "       [-0.50126044, -0.81792773, -1.68437364, -0.91479842, -0.39669369,\n",
       "        -0.42301893],\n",
       "       [-0.63418159, -0.20252383, -0.16880319,  0.20842542, -2.09346611,\n",
       "        -0.59854546],\n",
       "       [ 0.01319366, -0.48225287,  0.19702416,  0.34321228,  0.94902237,\n",
       "         0.9811933 ],\n",
       "       [-0.18372657,  0.46882588,  0.61511256, -0.91479842,  0.53945661,\n",
       "        -0.13047472],\n",
       "       [-0.52833697, -0.70603611, -0.79593579, -0.01621935, -0.51371248,\n",
       "        -1.00810736],\n",
       "       [-0.62433558, -0.53819868, -0.74367474, -0.24086412, -0.57222187,\n",
       "        -0.54003662],\n",
       "       [-0.6464891 , -0.98576516, -1.47532944,  0.20842542, -0.45520308,\n",
       "        -1.76872232],\n",
       "       [-0.10741998, -0.92981935, -1.37080734,  0.43307018, -1.33284399,\n",
       "        -0.42301893],\n",
       "       [-0.42126159,  2.14720015,  1.66033356, -0.69015366,  0.18840025,\n",
       "         0.39610487],\n",
       "       [-0.58249003, -0.20252383, -0.06428109, -0.24086412,  0.30541904,\n",
       "        -0.83258084],\n",
       "       [ 0.48703295, -0.76198192, -0.06428109, -0.24086412, -0.2796749 ,\n",
       "         0.5716314 ],\n",
       "       [-0.55172124, -0.76198192, -1.37080734, -0.46550889, -0.57222187,\n",
       "        -0.71556315],\n",
       "       [-0.5172602 , -0.48225287, -0.32558634, -0.69015366,  0.30541904,\n",
       "        -0.42301893],\n",
       "       [ 3.91467564,  0.91639235,  1.24224516, -0.3531865 ,  0.53945661,\n",
       "         0.39610487],\n",
       "       [-0.26003316,  2.65071244,  2.28746616,  4.22956676,  1.30007873,\n",
       "         1.8003171 ],\n",
       "       [ 3.0113041 , -0.81792773, -0.58689159,  0.20842542,  0.597966  ,\n",
       "         0.10356065],\n",
       "       [-0.58864379, -1.32144001, -1.05724104, -0.24086412, -0.80625945,\n",
       "        -1.12512505],\n",
       "       [ 0.53134   ,  0.07720522,  0.09250206,  6.49847892,  0.24690964,\n",
       "         1.15671983],\n",
       "       [ 0.1362688 ,  1.08422978,  1.08546201, -0.6452247 ,  1.12455055,\n",
       "         1.09821098],\n",
       "       [-0.58002853, -0.92981935, -0.79593579, -0.24086412,  0.01287207,\n",
       "        -0.94959852],\n",
       "       [ 0.70487595, -1.04171097, -1.57985154, -0.24086412, -0.51371248,\n",
       "        -2.76337265],\n",
       "       [-0.58372078, -0.70603611, -0.63915264,  0.20842542, -1.85942853,\n",
       "        -0.42301893],\n",
       "       [-0.41510784, -0.37036126, -0.16880319,  0.0287096 , -0.16265611,\n",
       "         0.9811933 ],\n",
       "       [ 4.90543053,  1.08422978,  1.34676726,  1.37657821,  0.30541904,\n",
       "        -1.88574001],\n",
       "       [ 1.02487132,  3.26611634,  2.02616091,  0.74757286,  1.65113509,\n",
       "         1.85882594],\n",
       "       [-0.38926206,  2.37098339,  2.02616091, -0.24086412,  1.70964449,\n",
       "         1.3907552 ],\n",
       "       [ 0.28642047,  1.14017559,  1.50355041,  1.10700449,  1.41709752,\n",
       "         1.62479057],\n",
       "       [-0.4237231 ,  0.18909683,  0.71963466, -0.46550889, -0.51371248,\n",
       "         0.74715792],\n",
       "       [ 0.08703874,  0.63666331,  0.61511256, -0.24086412,  0.36392843,\n",
       "         1.03970214],\n",
       "       [-0.49879893, -1.15360258, -1.47532944, -1.13944319, -0.68924066,\n",
       "         0.33759602],\n",
       "       [-0.5123372 , -0.6500903 , -0.74367474, -0.57783127,  0.94902237,\n",
       "        -0.59854546],\n",
       "       [-0.47049165, -0.31441545, -0.22106424,  0.26234016,  0.07138146,\n",
       "        -0.30600125],\n",
       "       [ 1.25625259,  1.02828397,  0.87641781,  0.26234016,  0.07138146,\n",
       "        -0.36451009],\n",
       "       [ 1.0507171 , -1.32144001,  0.19702416,  0.20842542,  1.12455055,\n",
       "        -0.24749241],\n",
       "       [ 0.34918879,  0.02125941, -0.01202004, -0.69015366,  0.24690964,\n",
       "         0.92268445],\n",
       "       [ 0.03411643, -0.48225287, -0.11654214,  0.20842542,  0.36392843,\n",
       "        -0.13047472],\n",
       "       [-0.40772333, -0.20252383, -0.06428109,  0.20842542, -0.51371248,\n",
       "        -0.94959852],\n",
       "       [ 0.15226857, -0.70603611, -1.16176314, -0.69015366,  1.12455055,\n",
       "        -0.07196588],\n",
       "       [-0.22187987,  0.30098845,  0.51059046, -0.24086412, -0.39669369,\n",
       "         1.03970214],\n",
       "       [-0.73141095, -1.04171097, -0.22106424, -1.13944319, -3.55620095,\n",
       "        -0.77407199],\n",
       "       [-0.17264981,  2.59476663,  1.92163881, -0.01621935,  0.597966  ,\n",
       "         1.50777288],\n",
       "       [ 0.69133769,  1.75557949,  1.71259461, -0.46550889,  0.89051297,\n",
       "         0.51312255],\n",
       "       [-0.34126275, -0.53819868, -0.06428109, -0.33072203,  0.18840025,\n",
       "         0.80566677],\n",
       "       [-0.20341859, -0.09063221,  0.30154626, -0.69015366, -0.57222187,\n",
       "         0.10356065],\n",
       "       [-0.24034114, -0.48225287, -0.69141369, -0.24086412,  0.18840025,\n",
       "        -0.18898356],\n",
       "       [ 0.10303851,  2.37098339,  1.92163881, -0.12854174,  1.41709752,\n",
       "         0.10356065],\n",
       "       [-0.32772449, -1.09765677, -1.78889574, -0.69015366,  1.06604115,\n",
       "         0.80566677],\n",
       "       [-0.41633859, -0.87387354, -1.16176314,  0.20842542,  0.24690964,\n",
       "        -0.59854546],\n",
       "       [-0.15295779, -0.25846964, -0.37784739, -0.12404884,  1.12455055,\n",
       "         0.5716314 ],\n",
       "       [-0.12588125, -1.09765677, -1.10950209,  0.20842542, -2.85408823,\n",
       "         3.08751164],\n",
       "       [-0.53079847, -0.20252383,  0.09250206, -0.24086412, -0.74775005,\n",
       "         0.51312255],\n",
       "       [-0.01634438, -0.20252383, -0.06428109,  0.07363855, -1.2158252 ,\n",
       "        -0.07196588],\n",
       "       [-0.66371962, -0.92981935, -0.53463054, -0.24086412, -1.74240975,\n",
       "        -2.41231959],\n",
       "       [-0.51602945,  0.35693426, -0.06428109,  0.20842542,  0.89051297,\n",
       "         0.04505181]])"
      ]
     },
     "execution_count": 11,
     "metadata": {},
     "output_type": "execute_result"
    }
   ],
   "source": [
    "scaler = StandardScaler()\n",
    "scaled_df = scaler.fit_transform(df)\n",
    "scaled_df\n"
   ]
  },
  {
   "cell_type": "markdown",
   "id": "440f5ccb",
   "metadata": {},
   "source": [
    "# Visualize two features "
   ]
  },
  {
   "cell_type": "code",
   "execution_count": 12,
   "id": "2d4bafe7",
   "metadata": {},
   "outputs": [
    {
     "data": {
      "image/png": "[encoded data removed]",
      "text/plain": [
       "<Figure size 432x288 with 1 Axes>"
      ]
     },
     "metadata": {
      "needs_background": "light"
     },
     "output_type": "display_data"
    }
   ],
   "source": [
    "plt.scatter(scaled_df[:, 0], scaled_df[:,2], s=20);\n",
    "plt.title('Visualization of Two features', fontweight='bold')\n",
    "plt.xlabel(\"Top10perc\",fontweight='bold')\n",
    "plt.ylabel(\"Top25perc\",fontweight='bold')\n",
    "plt.show()"
   ]
  },
  {
   "cell_type": "markdown",
   "id": "155eb49c",
   "metadata": {},
   "source": [
    "# K-means algorithm"
   ]
  },
  {
   "cell_type": "code",
   "execution_count": null,
   "id": "b8fa5e55",
   "metadata": {},
   "outputs": [],
   "source": []
  },
  {
   "cell_type": "code",
   "execution_count": 13,
   "id": "084dbeaa",
   "metadata": {},
   "outputs": [
    {
     "name": "stderr",
     "output_type": "stream",
     "text": [
      "C:\\Users\\SOFT\\anaconda3\\lib\\site-packages\\sklearn\\cluster\\_kmeans.py:1036: UserWarning: KMeans is known to have a memory leak on Windows with MKL, when there are less chunks than available threads. You can avoid it by setting the environment variable OMP_NUM_THREADS=1.\n",
      "  warnings.warn(\n"
     ]
    }
   ],
   "source": [
    "# A list holds the SSE values for each K\n",
    "\n",
    "sse = [] #SUM OF SQUARED ERROR\n",
    "for k in range(1,11):\n",
    "    km = KMeans(n_clusters=k , random_state=42)\n",
    "    km.fit(scaled_df)\n",
    "    sse.append(km.inertia_)"
   ]
  },
  {
   "cell_type": "code",
   "execution_count": 14,
   "id": "417047e0",
   "metadata": {},
   "outputs": [
    {
     "data": {
      "text/plain": [
       "[599.9999999999999,\n",
       " 416.836340686916,\n",
       " 340.17951092292776,\n",
       " 275.0841838632542,\n",
       " 225.57998698902878,\n",
       " 201.20565392058637,\n",
       " 178.8937540993914,\n",
       " 170.761653395306,\n",
       " 157.06068896979534,\n",
       " 147.45854115404688]"
      ]
     },
     "execution_count": 14,
     "metadata": {},
     "output_type": "execute_result"
    }
   ],
   "source": [
    "sse"
   ]
  },
  {
   "cell_type": "code",
   "execution_count": 15,
   "id": "baa918c7",
   "metadata": {},
   "outputs": [
    {
     "data": {
      "text/plain": [
       "147.45854115404688"
      ]
     },
     "execution_count": 15,
     "metadata": {},
     "output_type": "execute_result"
    }
   ],
   "source": [
    "# The lowest SSE value\n",
    "km.inertia_"
   ]
  },
  {
   "cell_type": "code",
   "execution_count": 16,
   "id": "523651d8",
   "metadata": {},
   "outputs": [
    {
     "data": {
      "image/png": "[encoded data removed]",
      "text/plain": [
       "<Figure size 432x288 with 1 Axes>"
      ]
     },
     "metadata": {},
     "output_type": "display_data"
    }
   ],
   "source": [
    "sns.set_style(\"whitegrid\")\n",
    "g=sns.lineplot(x=range(1,11), y=sse)\n",
    "  \n",
    "g.set(xlabel =\"Number of cluster (k)\", \n",
    "      ylabel = \"Sum Squared Error\", \n",
    "      title ='Elbow Method')\n",
    "  \n",
    "plt.show()"
   ]
  },
  {
   "cell_type": "code",
   "execution_count": 17,
   "id": "309856f1",
   "metadata": {},
   "outputs": [
    {
     "data": {
      "text/plain": [
       "KMeans(n_clusters=4, random_state=42)"
      ]
     },
     "execution_count": 17,
     "metadata": {},
     "output_type": "execute_result"
    }
   ],
   "source": [
    "kmeans=KMeans(n_clusters=4 , random_state=42)\n",
    "kmeans.fit(scaled_df)"
   ]
  },
  {
   "cell_type": "code",
   "execution_count": 18,
   "id": "cf1c5161",
   "metadata": {},
   "outputs": [
    {
     "data": {
      "text/plain": [
       "275.0841838632542"
      ]
     },
     "execution_count": 18,
     "metadata": {},
     "output_type": "execute_result"
    }
   ],
   "source": [
    "# The lowest SSE value\n",
    "kmeans.inertia_"
   ]
  },
  {
   "cell_type": "code",
   "execution_count": 19,
   "id": "b4a28f12",
   "metadata": {},
   "outputs": [
    {
     "data": {
      "text/plain": [
       "array([[-0.1912576 , -0.07464769,  0.09996792, -0.27573755,  0.35974919,\n",
       "         0.31948614],\n",
       "       [-0.03168143,  2.05682615,  1.80505647,  0.38468516,  1.16505705,\n",
       "         1.09821098],\n",
       "       [ 2.82699908,  0.26602232,  0.3930031 ,  1.13340025,  0.45169252,\n",
       "        -0.12316111],\n",
       "       [-0.38300851, -0.69545177, -0.83265977, -0.06721979, -0.91537156,\n",
       "        -0.72188843]])"
      ]
     },
     "execution_count": 19,
     "metadata": {},
     "output_type": "execute_result"
    }
   ],
   "source": [
    "# Final locations of the centroid\n",
    "kmeans.cluster_centers_"
   ]
  },
  {
   "cell_type": "code",
   "execution_count": 20,
   "id": "3a120f52",
   "metadata": {},
   "outputs": [
    {
     "data": {
      "text/plain": [
       "5"
      ]
     },
     "execution_count": 20,
     "metadata": {},
     "output_type": "execute_result"
    }
   ],
   "source": [
    "# The number of iterations required to converge\n",
    "kmeans.n_iter_"
   ]
  },
  {
   "cell_type": "code",
   "execution_count": 21,
   "id": "055d3ef9",
   "metadata": {},
   "outputs": [
    {
     "data": {
      "text/plain": [
       "array([0, 3, 3, 1, 3, 0, 0, 0, 0, 3, 0, 0, 0, 0, 3, 3, 1, 3, 3, 3, 3, 0,\n",
       "       3, 2, 0, 3, 0, 2, 3, 0, 0, 0, 3, 3, 0, 3, 1, 1, 0, 2, 0, 0, 3, 3,\n",
       "       0, 3, 3, 3, 0, 0, 3, 3, 3, 3, 1, 0, 0, 3, 0, 2, 1, 2, 3, 2, 1, 3,\n",
       "       3, 3, 0, 2, 1, 1, 1, 0, 0, 3, 0, 0, 2, 0, 0, 0, 3, 0, 0, 3, 1, 1,\n",
       "       0, 0, 0, 1, 0, 3, 0, 3, 0, 3, 3, 0])"
      ]
     },
     "execution_count": 21,
     "metadata": {},
     "output_type": "execute_result"
    }
   ],
   "source": [
    "pred = kmeans.fit_predict(scaled_df)\n",
    "pred"
   ]
  },
  {
   "cell_type": "code",
   "execution_count": 22,
   "id": "a64b96ec",
   "metadata": {},
   "outputs": [
    {
     "data": {
      "text/plain": [
       "0    42\n",
       "3    37\n",
       "1    13\n",
       "2     8\n",
       "Name: cluster, dtype: int64"
      ]
     },
     "execution_count": 22,
     "metadata": {},
     "output_type": "execute_result"
    }
   ],
   "source": [
    "# number of points in each cluster \n",
    "frame = pd.DataFrame(scaled_df)\n",
    "frame['cluster'] = pred\n",
    "frame['cluster'].value_counts()"
   ]
  },
  {
   "cell_type": "code",
   "execution_count": 23,
   "id": "c15287e5",
   "metadata": {},
   "outputs": [
    {
     "data": {
      "image/png": "[encoded data removed]",
      "text/plain": [
       "<Figure size 432x288 with 1 Axes>"
      ]
     },
     "metadata": {},
     "output_type": "display_data"
    }
   ],
   "source": [
    "plt.scatter(scaled_df[:, 0], scaled_df[:, 2], c=pred, s=20, cmap='viridis')\n",
    "\n",
    "centers = kmeans.cluster_centers_\n",
    "plt.scatter(centers[:, 0], centers[:, 2], c='black', s=200, alpha=0.5);"
   ]
  },
  {
   "cell_type": "code",
   "execution_count": 24,
   "id": "a64244a9",
   "metadata": {},
   "outputs": [
    {
     "data": {
      "text/plain": [
       "0.2639801240934691"
      ]
     },
     "execution_count": 24,
     "metadata": {},
     "output_type": "execute_result"
    }
   ],
   "source": [
    "silhouette_score(scaled_df,pred)"
   ]
  },
  {
   "cell_type": "code",
   "execution_count": null,
   "id": "8e30bacf",
   "metadata": {},
   "outputs": [],
   "source": []
  }
 ],
 "metadata": {
  "kernelspec": {
   "display_name": "Python 3 (ipykernel)",
   "language": "python",
   "name": "python3"
  },
  "language_info": {
   "codemirror_mode": {
    "name": "ipython",
    "version": 3
   },
   "file_extension": ".py",
   "mimetype": "text/x-python",
   "name": "python",
   "nbconvert_exporter": "python",
   "pygments_lexer": "ipython3",
   "version": "3.9.12"
  }
 },
 "nbformat": 4,
 "nbformat_minor": 5
}
